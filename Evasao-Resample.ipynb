{
 "cells": [
  {
   "cell_type": "code",
   "execution_count": 1,
   "id": "28914ca3",
   "metadata": {},
   "outputs": [],
   "source": [
    "import pandas as pd\n",
    "from datetime import datetime\n",
    "import numpy as np\n",
    "import matplotlib.pyplot as plt\n",
    "import seaborn as sns"
   ]
  },
  {
   "cell_type": "markdown",
   "id": "f1d87ac6",
   "metadata": {},
   "source": [
    "### Ler dados"
   ]
  },
  {
   "cell_type": "code",
   "execution_count": 2,
   "id": "29158ad6",
   "metadata": {},
   "outputs": [],
   "source": [
    "# Acao Extensiva\n",
    "\n",
    "df = pd.read_csv(\"data/AE_GO_RO.csv\", low_memory=False)\n",
    "df2 = pd.read_csv(\"data/AE_MS_SE.csv\", low_memory=False)\n",
    "df3 = pd.read_csv(\"data/AE_('ES','MA','PB', 'PE', 'RO', 'RR','SE', 'SG','TO', 'PI').csv\", low_memory=False)\n",
    "df = df.loc[df.DR==\"RO\"]\n",
    "\n",
    "df = pd.concat([df, df2, df3])\n",
    "\n",
    "\n",
    "df.drop_duplicates(inplace=True)\n",
    "\n",
    "# Cursos\n",
    "df_curso = pd.read_csv(\"data/Curso_GO_RO.csv\")\n",
    "df_curso2 = pd.read_csv(\"data/Curso_MS_SE.csv\")\n",
    "df_curso3 = pd.read_csv(\"data/Curso_('ES','MA','PB', 'PE', 'RO', 'RR','SE', 'SG','TO', 'PI').csv\")\n",
    "df_curso = pd.concat([df_curso, df_curso2, df_curso3])\n",
    "\n",
    "df_curso.drop_duplicates(inplace=True)\n",
    "# Uops\n",
    "\n",
    "df_uop = pd.read_csv(\"data/UOP.csv\")\n",
    "\n",
    "df = df.merge(df_uop[[\"Codigo_Unidade\", \"codigo_ibge\"]], left_on=\"Cod_Unidade\",\n",
    "             right_on=\"Codigo_Unidade\", how=\"left\")\n",
    "\n",
    "for col in \"Data_Nascimento\", 'Data_Matricula', 'Data_Status_Matricula', 'Data_Inicio', 'Data_Fim': \n",
    "    df[col] = pd.to_datetime(df[col])\n",
    "    \n",
    " "
   ]
  },
  {
   "cell_type": "markdown",
   "id": "b165f821",
   "metadata": {},
   "source": [
    "### Features Engineering"
   ]
  },
  {
   "cell_type": "code",
   "execution_count": 3,
   "id": "12180162",
   "metadata": {},
   "outputs": [],
   "source": [
    "# Aluno matriculado em mais de um curso?\n",
    "\n",
    "mat_alunos = df.groupby([\"Doc_Identificacao\"]).nunique()[\"Cod_Curso_Senac\"].reset_index()\n",
    "mat_alunos.loc[mat_alunos[\"Cod_Curso_Senac\"]>1, \"multicurso\"] = 1\n",
    "mat_alunos.fillna(0, inplace=True)\n",
    "#mat_alunos.sort_values(\"Cod_Curso_Senac\", ascending=False)\n",
    "df = df.merge(mat_alunos[[\"Doc_Identificacao\", \"multicurso\"]], \n",
    "              on=\"Doc_Identificacao\", how=\"left\")\n",
    "\n",
    "# Aluno matriculado no mesmo municipio da unidade\n",
    "\n",
    "df.loc[df.Municipio_Residencia_Aluno==df.codigo_ibge ,\"mesmomuni\"] = 1\n",
    "df['mesmomuni'].fillna(0, inplace=True)"
   ]
  },
  {
   "cell_type": "markdown",
   "id": "c36312e1",
   "metadata": {},
   "source": [
    "### Criação de bins"
   ]
  },
  {
   "cell_type": "code",
   "execution_count": 4,
   "id": "8fba2107",
   "metadata": {},
   "outputs": [],
   "source": [
    "df.dropna(subset=[\"Data_Nascimento\"], inplace=True)\n",
    "\n",
    "df[\"idade\"] = np.round((datetime.now() - df[\"Data_Nascimento\"])/np.timedelta64(1,\"Y\")).astype(\"int\")\n",
    "df = df.loc[df.idade<100]\n",
    "\n",
    "df['bins_idade'] = pd.cut(x=df['idade'], bins=[0,14, 20, 25, 30,\n",
    "                                          40, 50, 60, 100], \n",
    "                         labels=[0, 1,2,3,4,5,6,7])\n",
    "\n",
    "df['bins_CH'] = pd.cut(x=df['Carga_Horaria_Turma'], bins=[-1, 0, 30, 100, 6000], \n",
    "                         labels=[0,1,2,3])\n",
    "df['bins_CHE'] = pd.cut(x=df['Carga_Horaria_Estagio_Turma'], bins=[-1, 0, 200, 700, 3000], \n",
    "                         labels=[0, 1,2,3])\n",
    "\n",
    "df['bins_CHE'].fillna(0, inplace=True)\n",
    "df['bins_CHE'] = df['bins_CHE'].astype(int)\n",
    "df['bins_CH'].fillna(0, inplace=True)\n",
    "df['bins_CH'] = df['bins_CH'].astype(int)\n",
    "df = df.loc[~df[\"idade\"]<100]\n",
    "df['bins_idade'] = df['bins_idade'].astype(int)\n",
    "\n",
    "df.drop(['idade', 'Carga_Horaria_Turma','Carga_Horaria_Estagio_Turma'], axis=1, inplace=True)"
   ]
  },
  {
   "cell_type": "markdown",
   "id": "a9ba7d9b",
   "metadata": {},
   "source": [
    "### Coluna Evadido (target)"
   ]
  },
  {
   "cell_type": "code",
   "execution_count": 5,
   "id": "bfb41def",
   "metadata": {},
   "outputs": [],
   "source": [
    "df.loc[df.Cod_Esp_Matricula==3, \"evadido\"] = 1\n",
    "df[\"evadido\"].fillna(0, inplace=True)"
   ]
  },
  {
   "cell_type": "markdown",
   "id": "acf983de",
   "metadata": {},
   "source": [
    "## EDA"
   ]
  },
  {
   "cell_type": "code",
   "execution_count": 6,
   "id": "72ce1fbd",
   "metadata": {},
   "outputs": [
    {
     "data": {
      "image/png": "[encoded data removed]",
      "text/plain": [
       "<Figure size 216x144 with 1 Axes>"
      ]
     },
     "metadata": {
      "needs_background": "light"
     },
     "output_type": "display_data"
    },
    {
     "data": {
      "image/png": "[encoded data removed]",
      "text/plain": [
       "<Figure size 216x144 with 1 Axes>"
      ]
     },
     "metadata": {
      "needs_background": "light"
     },
     "output_type": "display_data"
    },
    {
     "data": {
      "image/png": "[encoded data removed]",
      "text/plain": [
       "<Figure size 216x144 with 1 Axes>"
      ]
     },
     "metadata": {
      "needs_background": "light"
     },
     "output_type": "display_data"
    },
    {
     "data": {
      "image/png": "[encoded data removed]",
      "text/plain": [
       "<Figure size 216x144 with 1 Axes>"
      ]
     },
     "metadata": {
      "needs_background": "light"
     },
     "output_type": "display_data"
    },
    {
     "data": {
      "text/plain": [
       "<AxesSubplot:title={'center':'Mesmo Muni'}, xlabel='mesmomuni'>"
      ]
     },
     "execution_count": 6,
     "metadata": {},
     "output_type": "execute_result"
    },
    {
     "data": {
      "image/png": "[encoded data removed]",
      "text/plain": [
       "<Figure size 216x144 with 1 Axes>"
      ]
     },
     "metadata": {
      "needs_background": "light"
     },
     "output_type": "display_data"
    }
   ],
   "source": [
    "df.groupby(\"evadido\")[\"Matricula_Apurada_Mes\"].sum().plot(kind=\"bar\", \n",
    "                                                          title=\"Evadidos\",\n",
    "                                                         figsize=(3,2))\n",
    "plt.show()\n",
    "df.loc[df.evadido==1].groupby(\"Status_Turma_Senac\")[\"Matricula_Apurada_Mes\"].\\\n",
    "sum().plot(kind=\"bar\",title=\"Status Turma\",figsize=(3,2))\n",
    "plt.show()\n",
    "\n",
    "df.loc[df.evadido==1].groupby(\"Cod_Mod_Recurso\")[\"Matricula_Apurada_Mes\"].sum().plot(kind=\"bar\",\n",
    "                                                                            title=\"Recurso\",\n",
    "                                                                             figsize=(3,2))\n",
    "plt.show()\n",
    "\n",
    "df.loc[df.evadido==1].groupby(\"multicurso\")[\"Matricula_Apurada_Mes\"].sum().plot(kind=\"bar\",\n",
    "                                                                            title=\"Multiplos cursos\",\n",
    "                                                                             figsize=(3,2))\n",
    "\n",
    "\n",
    "plt.show()\n",
    "\n",
    "df.loc[df.evadido==1].groupby(\"mesmomuni\")[\"Matricula_Apurada_Mes\"].sum().plot(kind=\"bar\",\n",
    "                                                                           title=\"Mesmo Muni\",\n",
    "                                                                           figsize=(3,2))\n"
   ]
  },
  {
   "cell_type": "code",
   "execution_count": 38,
   "id": "81e41899",
   "metadata": {},
   "outputs": [],
   "source": [
    "df = df.loc[df.Status_Turma_Senac==2]"
   ]
  },
  {
   "cell_type": "markdown",
   "id": "019d5b49",
   "metadata": {},
   "source": [
    "### Merge com cursos"
   ]
  },
  {
   "cell_type": "code",
   "execution_count": 7,
   "id": "3fe2228c",
   "metadata": {},
   "outputs": [],
   "source": [
    "df = df[[\"DR\", 'Cod_Curso_Senac', 'Tipo_Ensino',\n",
    "         'Cod_Mod_Recurso', 'Cod_Origem', 'Cod_Nacionalidade','Atestado_Baixa_Renda', 'Sexo', 'Cod_Raca', 'Cod_Escolaridade',\n",
    "           'Cod_Estado_Civil',  'Deficiencia', 'Trabalha_Atualmente', 'Cod_Renda_Familiar', 'Contrato_Aprendizagem',\n",
    "           'CursoId', \"bins_idade\", \"bins_CH\", \"bins_CHE\", 'multicurso','mesmomuni','evadido']]\n",
    "\n",
    "df_curso = df_curso[[\"Id_Curso\", 'Id_Eixo', 'Id_Modalidade', 'Id_TipoCurso','Regional']].drop_duplicates()\n",
    "df_curso[\"Regional\"] = df_curso[\"Regional\"].str.strip()\n",
    "\n",
    "df = df.merge(df_curso, left_on=[\"DR\",  'Cod_Curso_Senac'],\n",
    "             right_on=[\"Regional\", \"Id_Curso\"], how=\"left\")\n",
    "\n",
    "df.drop([\"DR\", \"Regional\", \"Id_Curso\", \"Cod_Curso_Senac\"], axis=1, inplace=True)"
   ]
  },
  {
   "cell_type": "code",
   "execution_count": 8,
   "id": "186ebe5f",
   "metadata": {},
   "outputs": [
    {
     "name": "stdout",
     "output_type": "stream",
     "text": [
      "1023307\n",
      "Tipo_Ensino                   0\n",
      "Cod_Mod_Recurso               0\n",
      "Cod_Origem               161275\n",
      "Cod_Nacionalidade             0\n",
      "Atestado_Baixa_Renda          0\n",
      "Sexo                          0\n",
      "Cod_Raca                 208711\n",
      "Cod_Escolaridade          97504\n",
      "Cod_Estado_Civil         203213\n",
      "Deficiencia                   0\n",
      "Trabalha_Atualmente      449378\n",
      "Cod_Renda_Familiar       456912\n",
      "Contrato_Aprendizagem      8154\n",
      "CursoId                       0\n",
      "bins_idade                    0\n",
      "bins_CH                       0\n",
      "bins_CHE                      0\n",
      "multicurso                    0\n",
      "mesmomuni                     0\n",
      "evadido                       0\n",
      "Id_Eixo                       0\n",
      "Id_Modalidade                 0\n",
      "Id_TipoCurso                  0\n",
      "dtype: int64\n",
      "---------\n",
      "% evadido 0.025335505376196978\n"
     ]
    },
    {
     "data": {
      "text/plain": [
       "<AxesSubplot:title={'center':'Evadidos turmas concluidas'}, xlabel='evadido'>"
      ]
     },
     "execution_count": 8,
     "metadata": {},
     "output_type": "execute_result"
    },
    {
     "data": {
      "image/png": "[encoded data removed]",
      "text/plain": [
       "<Figure size 216x144 with 1 Axes>"
      ]
     },
     "metadata": {
      "needs_background": "light"
     },
     "output_type": "display_data"
    }
   ],
   "source": [
    "print(len(df))\n",
    "print(df.isna().sum())\n",
    "print(\"---------\")\n",
    "print(\"% evadido\",len(df.loc[df.evadido==1])/len(df))\n",
    "df.groupby(\"evadido\")[\"Tipo_Ensino\"].count().plot(kind=\"bar\", \n",
    "                                                title=\"Evadidos turmas concluidas\",\n",
    "                                                figsize=(3,2))"
   ]
  },
  {
   "cell_type": "markdown",
   "id": "0f8658ca",
   "metadata": {},
   "source": [
    "### Columns selection"
   ]
  },
  {
   "cell_type": "code",
   "execution_count": 9,
   "id": "650e6559",
   "metadata": {},
   "outputs": [],
   "source": [
    "df = df[['Tipo_Ensino', 'Cod_Mod_Recurso', 'Sexo', 'Cod_Raca',\n",
    "         'Cod_Escolaridade', 'Cod_Estado_Civil', 'Deficiencia',\n",
    "         'Trabalha_Atualmente', 'Cod_Renda_Familiar', 'Contrato_Aprendizagem',\n",
    "         'bins_idade', 'bins_CH', 'bins_CHE', 'Id_Eixo',\n",
    "         'Id_TipoCurso', \"multicurso\", \"mesmomuni\",\"evadido\"]]"
   ]
  },
  {
   "cell_type": "markdown",
   "id": "ef36af2b",
   "metadata": {},
   "source": [
    "### Onehot"
   ]
  },
  {
   "cell_type": "code",
   "execution_count": 10,
   "id": "cb9764a9",
   "metadata": {},
   "outputs": [
    {
     "name": "stdout",
     "output_type": "stream",
     "text": [
      "1023307\n",
      "507644\n"
     ]
    }
   ],
   "source": [
    "print(len(df))\n",
    "df = df.dropna()\n",
    "print(len(df))"
   ]
  },
  {
   "cell_type": "code",
   "execution_count": 11,
   "id": "f472e661",
   "metadata": {},
   "outputs": [],
   "source": [
    "df_dum = pd.get_dummies(df, prefix=[c for c in df.columns[:-1]], \n",
    "                        columns = [c for c in df.columns[:-1]], \n",
    "                        drop_first=False)"
   ]
  },
  {
   "cell_type": "code",
   "execution_count": 12,
   "id": "9b393e3e",
   "metadata": {},
   "outputs": [
    {
     "name": "stdout",
     "output_type": "stream",
     "text": [
      "82\n"
     ]
    },
    {
     "data": {
      "text/plain": [
       "Index(['evadido', 'Tipo_Ensino_1.0', 'Tipo_Ensino_5.0', 'Tipo_Ensino_6.0',\n",
       "       'Tipo_Ensino_7.0', 'Cod_Mod_Recurso_1.0', 'Cod_Mod_Recurso_2.0',\n",
       "       'Cod_Mod_Recurso_3.0', 'Sexo_1.0', 'Sexo_2.0', 'Cod_Raca_1.0',\n",
       "       'Cod_Raca_2.0', 'Cod_Raca_3.0', 'Cod_Raca_4.0', 'Cod_Raca_5.0',\n",
       "       'Cod_Raca_6.0', 'Cod_Escolaridade_1.0', 'Cod_Escolaridade_2.0',\n",
       "       'Cod_Escolaridade_3.0', 'Cod_Escolaridade_4.0', 'Cod_Escolaridade_5.0',\n",
       "       'Cod_Escolaridade_6.0', 'Cod_Escolaridade_7.0', 'Cod_Escolaridade_8.0',\n",
       "       'Cod_Escolaridade_9.0', 'Cod_Escolaridade_10.0', 'Cod_Estado_Civil_1.0',\n",
       "       'Cod_Estado_Civil_2.0', 'Cod_Estado_Civil_3.0', 'Cod_Estado_Civil_4.0',\n",
       "       'Cod_Estado_Civil_5.0', 'Deficiencia_0.0', 'Deficiencia_1.0',\n",
       "       'Trabalha_Atualmente_0.0', 'Trabalha_Atualmente_1.0',\n",
       "       'Cod_Renda_Familiar_1.0', 'Cod_Renda_Familiar_2.0',\n",
       "       'Cod_Renda_Familiar_3.0', 'Cod_Renda_Familiar_4.0',\n",
       "       'Cod_Renda_Familiar_5.0', 'Cod_Renda_Familiar_6.0',\n",
       "       'Cod_Renda_Familiar_7.0', 'Cod_Renda_Familiar_8.0',\n",
       "       'Contrato_Aprendizagem_0.0', 'Contrato_Aprendizagem_1.0',\n",
       "       'bins_idade_0', 'bins_idade_1', 'bins_idade_2', 'bins_idade_3',\n",
       "       'bins_idade_4', 'bins_idade_5', 'bins_idade_6', 'bins_idade_7',\n",
       "       'bins_CH_1', 'bins_CH_2', 'bins_CH_3', 'bins_CHE_0', 'bins_CHE_1',\n",
       "       'bins_CHE_2', 'bins_CHE_3', 'Id_Eixo_1', 'Id_Eixo_2', 'Id_Eixo_3',\n",
       "       'Id_Eixo_4', 'Id_Eixo_5', 'Id_Eixo_6', 'Id_Eixo_7', 'Id_Eixo_9',\n",
       "       'Id_Eixo_10', 'Id_Eixo_11', 'Id_TipoCurso_1', 'Id_TipoCurso_2',\n",
       "       'Id_TipoCurso_3', 'Id_TipoCurso_4', 'Id_TipoCurso_5', 'Id_TipoCurso_6',\n",
       "       'Id_TipoCurso_8', 'Id_TipoCurso_9', 'multicurso_0.0', 'multicurso_1.0',\n",
       "       'mesmomuni_0.0', 'mesmomuni_1.0'],\n",
       "      dtype='object')"
      ]
     },
     "execution_count": 12,
     "metadata": {},
     "output_type": "execute_result"
    }
   ],
   "source": [
    "print(len(df_dum.columns))\n",
    "df_dum.columns"
   ]
  },
  {
   "cell_type": "markdown",
   "id": "e1ead8ee",
   "metadata": {},
   "source": [
    "## ML"
   ]
  },
  {
   "cell_type": "code",
   "execution_count": 13,
   "id": "c15c5f0b",
   "metadata": {},
   "outputs": [],
   "source": [
    "from sklearn.feature_selection import SelectKBest\n",
    "from sklearn.feature_selection import chi2, f_classif, mutual_info_classif"
   ]
  },
  {
   "cell_type": "code",
   "execution_count": 14,
   "id": "d0bdc7e3",
   "metadata": {},
   "outputs": [
    {
     "name": "stdout",
     "output_type": "stream",
     "text": [
      "% evadidos =  0.02697953684077818\n"
     ]
    }
   ],
   "source": [
    "_df = df_dum.dropna()\n",
    "\n",
    "X = _df[[c for c in _df.columns[1:]]]\n",
    "y = _df.evadido\n",
    "print(\"% evadidos = \", (y[y==1].sum())/len(y))"
   ]
  },
  {
   "cell_type": "code",
   "execution_count": 15,
   "id": "c30fa91a",
   "metadata": {},
   "outputs": [
    {
     "data": {
      "text/plain": [
       "0.0    493948\n",
       "1.0     13696\n",
       "Name: evadido, dtype: int64"
      ]
     },
     "execution_count": 15,
     "metadata": {},
     "output_type": "execute_result"
    }
   ],
   "source": [
    "_df[\"evadido\"].value_counts()"
   ]
  },
  {
   "cell_type": "markdown",
   "id": "7dd5fc61",
   "metadata": {},
   "source": [
    "## Resample"
   ]
  },
  {
   "cell_type": "markdown",
   "id": "0564392f",
   "metadata": {},
   "source": [
    "### Upsampling"
   ]
  },
  {
   "cell_type": "code",
   "execution_count": 20,
   "id": "2250fe90",
   "metadata": {},
   "outputs": [],
   "source": [
    "from sklearn.utils import resample\n",
    "\n",
    "#create two different dataframe of majority and minority class \n",
    "df_majority = _df[(_df['evadido']==0)] \n",
    "df_minority = _df[(_df['evadido']==1)] \n",
    "# upsample minority class\n",
    "df_minority_upsampled = resample(df_minority, \n",
    "                                 replace=True,    # sample with replacement\n",
    "                                 n_samples= 62834, # to match majority class\n",
    "                                 random_state=42)  # reproducible results\n",
    "# Combine majority class with upsampled minority class\n",
    "df_upsampled = pd.concat([df_minority_upsampled, df_majority])"
   ]
  },
  {
   "cell_type": "code",
   "execution_count": 22,
   "id": "4de1631a",
   "metadata": {},
   "outputs": [
    {
     "data": {
      "text/plain": [
       "1.0    62834\n",
       "0.0    62834\n",
       "Name: evadido, dtype: int64"
      ]
     },
     "execution_count": 22,
     "metadata": {},
     "output_type": "execute_result"
    }
   ],
   "source": [
    "df_upsampled[\"evadido\"].value_counts()"
   ]
  },
  {
   "cell_type": "code",
   "execution_count": 30,
   "id": "8b8d08e1",
   "metadata": {},
   "outputs": [
    {
     "name": "stdout",
     "output_type": "stream",
     "text": [
      "% evadidos =  0.5\n"
     ]
    }
   ],
   "source": [
    "_df = df_upsampled.dropna()\n",
    "X = _df[[c for c in _df.columns[1:]]]\n",
    "y = _df.evadido\n",
    "print(\"% evadidos = \", (y[y==1].sum())/len(y))"
   ]
  },
  {
   "cell_type": "markdown",
   "id": "167b1c25",
   "metadata": {},
   "source": [
    "#### Melhores variaveis com chi_square"
   ]
  },
  {
   "cell_type": "code",
   "execution_count": 31,
   "id": "3757a921",
   "metadata": {},
   "outputs": [],
   "source": [
    "f = 77\n",
    "bestfeatures = SelectKBest(score_func=chi2, k=f)\n",
    "fit = bestfeatures.fit(X,y)\n",
    "dfscores = pd.DataFrame(fit.scores_)\n",
    "dfcolumns = pd.DataFrame(X.columns)\n",
    "#concat two dataframes for better visualization \n",
    "featureScores = pd.concat([dfcolumns,dfscores],axis=1)\n",
    "featureScores.columns = ['Specs','Score_chi']  #naming the dataframe columns"
   ]
  },
  {
   "cell_type": "code",
   "execution_count": 32,
   "id": "803aa3de",
   "metadata": {},
   "outputs": [
    {
     "data": {
      "text/html": [
       "<div>\n",
       "<style scoped>\n",
       "    .dataframe tbody tr th:only-of-type {\n",
       "        vertical-align: middle;\n",
       "    }\n",
       "\n",
       "    .dataframe tbody tr th {\n",
       "        vertical-align: top;\n",
       "    }\n",
       "\n",
       "    .dataframe thead th {\n",
       "        text-align: right;\n",
       "    }\n",
       "</style>\n",
       "<table border=\"1\" class=\"dataframe\">\n",
       "  <thead>\n",
       "    <tr style=\"text-align: right;\">\n",
       "      <th></th>\n",
       "      <th>Specs</th>\n",
       "      <th>Score_chi</th>\n",
       "    </tr>\n",
       "  </thead>\n",
       "  <tbody>\n",
       "    <tr>\n",
       "      <th>74</th>\n",
       "      <td>Id_TipoCurso_8</td>\n",
       "      <td>3076.745941</td>\n",
       "    </tr>\n",
       "    <tr>\n",
       "      <th>53</th>\n",
       "      <td>bins_CH_2</td>\n",
       "      <td>3047.384033</td>\n",
       "    </tr>\n",
       "    <tr>\n",
       "      <th>70</th>\n",
       "      <td>Id_TipoCurso_3</td>\n",
       "      <td>2830.448785</td>\n",
       "    </tr>\n",
       "    <tr>\n",
       "      <th>5</th>\n",
       "      <td>Cod_Mod_Recurso_2.0</td>\n",
       "      <td>2250.577277</td>\n",
       "    </tr>\n",
       "    <tr>\n",
       "      <th>52</th>\n",
       "      <td>bins_CH_1</td>\n",
       "      <td>2089.781641</td>\n",
       "    </tr>\n",
       "    <tr>\n",
       "      <th>...</th>\n",
       "      <td>...</td>\n",
       "      <td>...</td>\n",
       "    </tr>\n",
       "    <tr>\n",
       "      <th>28</th>\n",
       "      <td>Cod_Estado_Civil_4.0</td>\n",
       "      <td>1.029315</td>\n",
       "    </tr>\n",
       "    <tr>\n",
       "      <th>30</th>\n",
       "      <td>Deficiencia_0.0</td>\n",
       "      <td>0.666014</td>\n",
       "    </tr>\n",
       "    <tr>\n",
       "      <th>55</th>\n",
       "      <td>bins_CHE_0</td>\n",
       "      <td>0.478768</td>\n",
       "    </tr>\n",
       "    <tr>\n",
       "      <th>23</th>\n",
       "      <td>Cod_Escolaridade_9.0</td>\n",
       "      <td>0.220480</td>\n",
       "    </tr>\n",
       "    <tr>\n",
       "      <th>13</th>\n",
       "      <td>Cod_Raca_5.0</td>\n",
       "      <td>0.091050</td>\n",
       "    </tr>\n",
       "  </tbody>\n",
       "</table>\n",
       "<p>80 rows × 2 columns</p>\n",
       "</div>"
      ],
      "text/plain": [
       "                   Specs    Score_chi\n",
       "74        Id_TipoCurso_8  3076.745941\n",
       "53             bins_CH_2  3047.384033\n",
       "70        Id_TipoCurso_3  2830.448785\n",
       "5    Cod_Mod_Recurso_2.0  2250.577277\n",
       "52             bins_CH_1  2089.781641\n",
       "..                   ...          ...\n",
       "28  Cod_Estado_Civil_4.0     1.029315\n",
       "30       Deficiencia_0.0     0.666014\n",
       "55            bins_CHE_0     0.478768\n",
       "23  Cod_Escolaridade_9.0     0.220480\n",
       "13          Cod_Raca_5.0     0.091050\n",
       "\n",
       "[80 rows x 2 columns]"
      ]
     },
     "execution_count": 32,
     "metadata": {},
     "output_type": "execute_result"
    }
   ],
   "source": [
    "featureScores.sort_values(\"Score_chi\", ascending=False)"
   ]
  },
  {
   "cell_type": "code",
   "execution_count": 33,
   "id": "c03ab4bc",
   "metadata": {},
   "outputs": [
    {
     "data": {
      "text/html": [
       "<style>#sk-container-id-2 {color: black;background-color: white;}#sk-container-id-2 pre{padding: 0;}#sk-container-id-2 div.sk-toggleable {background-color: white;}#sk-container-id-2 label.sk-toggleable__label {cursor: pointer;display: block;width: 100%;margin-bottom: 0;padding: 0.3em;box-sizing: border-box;text-align: center;}#sk-container-id-2 label.sk-toggleable__label-arrow:before {content: \"▸\";float: left;margin-right: 0.25em;color: #696969;}#sk-container-id-2 label.sk-toggleable__label-arrow:hover:before {color: black;}#sk-container-id-2 div.sk-estimator:hover label.sk-toggleable__label-arrow:before {color: black;}#sk-container-id-2 div.sk-toggleable__content {max-height: 0;max-width: 0;overflow: hidden;text-align: left;background-color: #f0f8ff;}#sk-container-id-2 div.sk-toggleable__content pre {margin: 0.2em;color: black;border-radius: 0.25em;background-color: #f0f8ff;}#sk-container-id-2 input.sk-toggleable__control:checked~div.sk-toggleable__content {max-height: 200px;max-width: 100%;overflow: auto;}#sk-container-id-2 input.sk-toggleable__control:checked~label.sk-toggleable__label-arrow:before {content: \"▾\";}#sk-container-id-2 div.sk-estimator input.sk-toggleable__control:checked~label.sk-toggleable__label {background-color: #d4ebff;}#sk-container-id-2 div.sk-label input.sk-toggleable__control:checked~label.sk-toggleable__label {background-color: #d4ebff;}#sk-container-id-2 input.sk-hidden--visually {border: 0;clip: rect(1px 1px 1px 1px);clip: rect(1px, 1px, 1px, 1px);height: 1px;margin: -1px;overflow: hidden;padding: 0;position: absolute;width: 1px;}#sk-container-id-2 div.sk-estimator {font-family: monospace;background-color: #f0f8ff;border: 1px dotted black;border-radius: 0.25em;box-sizing: border-box;margin-bottom: 0.5em;}#sk-container-id-2 div.sk-estimator:hover {background-color: #d4ebff;}#sk-container-id-2 div.sk-parallel-item::after {content: \"\";width: 100%;border-bottom: 1px solid gray;flex-grow: 1;}#sk-container-id-2 div.sk-label:hover label.sk-toggleable__label {background-color: #d4ebff;}#sk-container-id-2 div.sk-serial::before {content: \"\";position: absolute;border-left: 1px solid gray;box-sizing: border-box;top: 0;bottom: 0;left: 50%;z-index: 0;}#sk-container-id-2 div.sk-serial {display: flex;flex-direction: column;align-items: center;background-color: white;padding-right: 0.2em;padding-left: 0.2em;position: relative;}#sk-container-id-2 div.sk-item {position: relative;z-index: 1;}#sk-container-id-2 div.sk-parallel {display: flex;align-items: stretch;justify-content: center;background-color: white;position: relative;}#sk-container-id-2 div.sk-item::before, #sk-container-id-2 div.sk-parallel-item::before {content: \"\";position: absolute;border-left: 1px solid gray;box-sizing: border-box;top: 0;bottom: 0;left: 50%;z-index: -1;}#sk-container-id-2 div.sk-parallel-item {display: flex;flex-direction: column;z-index: 1;position: relative;background-color: white;}#sk-container-id-2 div.sk-parallel-item:first-child::after {align-self: flex-end;width: 50%;}#sk-container-id-2 div.sk-parallel-item:last-child::after {align-self: flex-start;width: 50%;}#sk-container-id-2 div.sk-parallel-item:only-child::after {width: 0;}#sk-container-id-2 div.sk-dashed-wrapped {border: 1px dashed gray;margin: 0 0.4em 0.5em 0.4em;box-sizing: border-box;padding-bottom: 0.4em;background-color: white;}#sk-container-id-2 div.sk-label label {font-family: monospace;font-weight: bold;display: inline-block;line-height: 1.2em;}#sk-container-id-2 div.sk-label-container {text-align: center;}#sk-container-id-2 div.sk-container {/* jupyter's `normalize.less` sets `[hidden] { display: none; }` but bootstrap.min.css set `[hidden] { display: none !important; }` so we also need the `!important` here to be able to override the default hidden behavior on the sphinx rendered scikit-learn.org. See: https://github.com/scikit-learn/scikit-learn/issues/21755 */display: inline-block !important;position: relative;}#sk-container-id-2 div.sk-text-repr-fallback {display: none;}</style><div id=\"sk-container-id-2\" class=\"sk-top-container\"><div class=\"sk-text-repr-fallback\"><pre>VarianceThreshold(threshold=0.2)</pre><b>In a Jupyter environment, please rerun this cell to show the HTML representation or trust the notebook. <br />On GitHub, the HTML representation is unable to render, please try loading this page with nbviewer.org.</b></div><div class=\"sk-container\" hidden><div class=\"sk-item\"><div class=\"sk-estimator sk-toggleable\"><input class=\"sk-toggleable__control sk-hidden--visually\" id=\"sk-estimator-id-2\" type=\"checkbox\" checked><label for=\"sk-estimator-id-2\" class=\"sk-toggleable__label sk-toggleable__label-arrow\">VarianceThreshold</label><div class=\"sk-toggleable__content\"><pre>VarianceThreshold(threshold=0.2)</pre></div></div></div></div></div>"
      ],
      "text/plain": [
       "VarianceThreshold(threshold=0.2)"
      ]
     },
     "execution_count": 33,
     "metadata": {},
     "output_type": "execute_result"
    }
   ],
   "source": [
    "from sklearn.feature_selection import VarianceThreshold\n",
    "sel = VarianceThreshold(0.2)\n",
    "sel.fit(X,y)"
   ]
  },
  {
   "cell_type": "code",
   "execution_count": 34,
   "id": "49fb48ed",
   "metadata": {},
   "outputs": [
    {
     "data": {
      "text/html": [
       "<div>\n",
       "<style scoped>\n",
       "    .dataframe tbody tr th:only-of-type {\n",
       "        vertical-align: middle;\n",
       "    }\n",
       "\n",
       "    .dataframe tbody tr th {\n",
       "        vertical-align: top;\n",
       "    }\n",
       "\n",
       "    .dataframe thead th {\n",
       "        text-align: right;\n",
       "    }\n",
       "</style>\n",
       "<table border=\"1\" class=\"dataframe\">\n",
       "  <thead>\n",
       "    <tr style=\"text-align: right;\">\n",
       "      <th></th>\n",
       "      <th>feature</th>\n",
       "      <th>variancia</th>\n",
       "    </tr>\n",
       "  </thead>\n",
       "  <tbody>\n",
       "    <tr>\n",
       "      <th>35</th>\n",
       "      <td>Cod_Renda_Familiar_2.0</td>\n",
       "      <td>0.247283</td>\n",
       "    </tr>\n",
       "    <tr>\n",
       "      <th>61</th>\n",
       "      <td>Id_Eixo_3</td>\n",
       "      <td>0.242194</td>\n",
       "    </tr>\n",
       "    <tr>\n",
       "      <th>0</th>\n",
       "      <td>Tipo_Ensino_1.0</td>\n",
       "      <td>0.239616</td>\n",
       "    </tr>\n",
       "    <tr>\n",
       "      <th>2</th>\n",
       "      <td>Tipo_Ensino_6.0</td>\n",
       "      <td>0.237340</td>\n",
       "    </tr>\n",
       "    <tr>\n",
       "      <th>12</th>\n",
       "      <td>Cod_Raca_4.0</td>\n",
       "      <td>0.229534</td>\n",
       "    </tr>\n",
       "    <tr>\n",
       "      <th>...</th>\n",
       "      <td>...</td>\n",
       "      <td>...</td>\n",
       "    </tr>\n",
       "    <tr>\n",
       "      <th>27</th>\n",
       "      <td>Cod_Estado_Civil_3.0</td>\n",
       "      <td>0.001351</td>\n",
       "    </tr>\n",
       "    <tr>\n",
       "      <th>39</th>\n",
       "      <td>Cod_Renda_Familiar_6.0</td>\n",
       "      <td>0.001224</td>\n",
       "    </tr>\n",
       "    <tr>\n",
       "      <th>75</th>\n",
       "      <td>Id_TipoCurso_9</td>\n",
       "      <td>0.001168</td>\n",
       "    </tr>\n",
       "    <tr>\n",
       "      <th>58</th>\n",
       "      <td>bins_CHE_3</td>\n",
       "      <td>0.000938</td>\n",
       "    </tr>\n",
       "    <tr>\n",
       "      <th>44</th>\n",
       "      <td>bins_idade_0</td>\n",
       "      <td>0.000382</td>\n",
       "    </tr>\n",
       "  </tbody>\n",
       "</table>\n",
       "<p>80 rows × 2 columns</p>\n",
       "</div>"
      ],
      "text/plain": [
       "                   feature  variancia\n",
       "35  Cod_Renda_Familiar_2.0   0.247283\n",
       "61               Id_Eixo_3   0.242194\n",
       "0          Tipo_Ensino_1.0   0.239616\n",
       "2          Tipo_Ensino_6.0   0.237340\n",
       "12            Cod_Raca_4.0   0.229534\n",
       "..                     ...        ...\n",
       "27    Cod_Estado_Civil_3.0   0.001351\n",
       "39  Cod_Renda_Familiar_6.0   0.001224\n",
       "75          Id_TipoCurso_9   0.001168\n",
       "58              bins_CHE_3   0.000938\n",
       "44            bins_idade_0   0.000382\n",
       "\n",
       "[80 rows x 2 columns]"
      ]
     },
     "execution_count": 34,
     "metadata": {},
     "output_type": "execute_result"
    }
   ],
   "source": [
    "_X = pd.DataFrame({\"feature\":sel.feature_names_in_,\"variancia\":sel.variances_}).sort_values(\"variancia\", \n",
    "                                                                                            ascending=False)\n",
    "_X"
   ]
  },
  {
   "cell_type": "code",
   "execution_count": 95,
   "id": "5c9bc7fc",
   "metadata": {},
   "outputs": [],
   "source": [
    "selected_X = _X.loc[_X.variancia>=0.2]['feature'].values"
   ]
  },
  {
   "cell_type": "markdown",
   "id": "27e5024a",
   "metadata": {},
   "source": [
    "### Comparação de modelos default"
   ]
  },
  {
   "cell_type": "code",
   "execution_count": 35,
   "id": "1aed88ef",
   "metadata": {},
   "outputs": [],
   "source": [
    "from sklearn.model_selection import train_test_split, GridSearchCV\n",
    "\n",
    "# X_ = X[selected_X]\n",
    "\n",
    "X_train, X_test, y_train, y_test = train_test_split(X, y, test_size=0.33, random_state=42)"
   ]
  },
  {
   "cell_type": "code",
   "execution_count": 19,
   "id": "c1fe9292",
   "metadata": {},
   "outputs": [],
   "source": [
    "from sklearn.linear_model import LogisticRegression\n",
    "from sklearn.svm import SVC\n",
    "from sklearn.neighbors import KNeighborsClassifier\n",
    "from sklearn.tree import DecisionTreeClassifier\n",
    "from sklearn.ensemble import RandomForestClassifier\n",
    "from sklearn.naive_bayes import GaussianNB"
   ]
  },
  {
   "cell_type": "code",
   "execution_count": 20,
   "id": "a55d9edc",
   "metadata": {},
   "outputs": [],
   "source": [
    "model_pipeline = []\n",
    "model_pipeline.append(LogisticRegression())\n",
    "model_pipeline.append(SVC(probability=True))\n",
    "model_pipeline.append(KNeighborsClassifier())\n",
    "model_pipeline.append(DecisionTreeClassifier())\n",
    "model_pipeline.append(RandomForestClassifier())\n",
    "model_pipeline.append(GaussianNB())"
   ]
  },
  {
   "cell_type": "code",
   "execution_count": 53,
   "id": "0ae59080",
   "metadata": {},
   "outputs": [],
   "source": [
    "from sklearn import metrics\n",
    "from sklearn.metrics import classification_report\n",
    "from sklearn.metrics import confusion_matrix"
   ]
  },
  {
   "cell_type": "code",
   "execution_count": 39,
   "id": "f679f47e",
   "metadata": {},
   "outputs": [
    {
     "name": "stderr",
     "output_type": "stream",
     "text": [
      "C:\\Users\\paula\\Anaconda3\\envs\\evasao\\lib\\site-packages\\sklearn\\linear_model\\_logistic.py:444: ConvergenceWarning: lbfgs failed to converge (status=1):\n",
      "STOP: TOTAL NO. of ITERATIONS REACHED LIMIT.\n",
      "\n",
      "Increase the number of iterations (max_iter) or scale the data as shown in:\n",
      "    https://scikit-learn.org/stable/modules/preprocessing.html\n",
      "Please also refer to the documentation for alternative solver options:\n",
      "    https://scikit-learn.org/stable/modules/linear_model.html#logistic-regression\n",
      "  n_iter_i = _check_optimize_result(\n"
     ]
    }
   ],
   "source": [
    "model_list = [\"Logistic Regression\", \"SVM\", \"KNN\", \n",
    "              \"Decision Tree\", \"Random Forest\", \"Naive Bayes\"]\n",
    "acc_list = []\n",
    "auc_list = []\n",
    "cm_list =[]\n",
    "auc_rc_list= []\n",
    "\n",
    "for model in model_pipeline:\n",
    "    model.fit(X_train, y_train)\n",
    "    y_pred = model.predict(X_test)\n",
    "    y_prob = model.predict_proba(X_test)\n",
    "    acc_list.append(metrics.accuracy_score(y_test, y_pred))\n",
    "    fpr, tpr, _thresholds = metrics.roc_curve(y_test, y_pred)\n",
    "    auc_list.append(round(metrics.auc(fpr, tpr), 2))\n",
    "    cm_list.append(confusion_matrix(y_test, y_pred))\n",
    "    pr, rc, _threshold = metrics.precision_recall_curve(y_test, y_prob[:,1])\n",
    "    auc_rc_list.append(metrics.auc(rc, pr))"
   ]
  },
  {
   "cell_type": "code",
   "execution_count": 42,
   "id": "c50a589d",
   "metadata": {},
   "outputs": [
    {
     "data": {
      "image/png": "[encoded data removed]",
      "text/plain": [
       "<Figure size 1296x720 with 12 Axes>"
      ]
     },
     "metadata": {
      "needs_background": "light"
     },
     "output_type": "display_data"
    }
   ],
   "source": [
    "fig = plt.figure(figsize=(18,10))\n",
    "for i in range(len(cm_list)):\n",
    "    cm = cm_list[i]\n",
    "    model = model_list[i]\n",
    "    sub = fig.add_subplot(2,3,i+1).set_title(model)\n",
    "    cm_plot = sns.heatmap(cm, annot=True, cmap=\"Reds\", fmt=\"d\")\n",
    "    cm_plot.set_ylabel(\"Actual Value\")\n",
    "    cm_plot.set_xlabel(\"Predicted Values\")"
   ]
  },
  {
   "cell_type": "code",
   "execution_count": 43,
   "id": "39908b20",
   "metadata": {},
   "outputs": [
    {
     "data": {
      "text/html": [
       "<div>\n",
       "<style scoped>\n",
       "    .dataframe tbody tr th:only-of-type {\n",
       "        vertical-align: middle;\n",
       "    }\n",
       "\n",
       "    .dataframe tbody tr th {\n",
       "        vertical-align: top;\n",
       "    }\n",
       "\n",
       "    .dataframe thead th {\n",
       "        text-align: right;\n",
       "    }\n",
       "</style>\n",
       "<table border=\"1\" class=\"dataframe\">\n",
       "  <thead>\n",
       "    <tr style=\"text-align: right;\">\n",
       "      <th></th>\n",
       "      <th>Model</th>\n",
       "      <th>Accuracy</th>\n",
       "      <th>AUC</th>\n",
       "      <th>AUC_PR</th>\n",
       "    </tr>\n",
       "  </thead>\n",
       "  <tbody>\n",
       "    <tr>\n",
       "      <th>4</th>\n",
       "      <td>Random Forest</td>\n",
       "      <td>0.862121</td>\n",
       "      <td>0.86</td>\n",
       "      <td>0.941019</td>\n",
       "    </tr>\n",
       "    <tr>\n",
       "      <th>3</th>\n",
       "      <td>Decision Tree</td>\n",
       "      <td>0.856406</td>\n",
       "      <td>0.86</td>\n",
       "      <td>0.927516</td>\n",
       "    </tr>\n",
       "    <tr>\n",
       "      <th>2</th>\n",
       "      <td>KNN</td>\n",
       "      <td>0.809674</td>\n",
       "      <td>0.81</td>\n",
       "      <td>0.895471</td>\n",
       "    </tr>\n",
       "    <tr>\n",
       "      <th>1</th>\n",
       "      <td>SVM</td>\n",
       "      <td>0.739336</td>\n",
       "      <td>0.74</td>\n",
       "      <td>0.787446</td>\n",
       "    </tr>\n",
       "    <tr>\n",
       "      <th>0</th>\n",
       "      <td>Logistic Regression</td>\n",
       "      <td>0.642280</td>\n",
       "      <td>0.64</td>\n",
       "      <td>0.694977</td>\n",
       "    </tr>\n",
       "    <tr>\n",
       "      <th>5</th>\n",
       "      <td>Naive Bayes</td>\n",
       "      <td>0.607846</td>\n",
       "      <td>0.61</td>\n",
       "      <td>0.651006</td>\n",
       "    </tr>\n",
       "  </tbody>\n",
       "</table>\n",
       "</div>"
      ],
      "text/plain": [
       "                 Model  Accuracy   AUC    AUC_PR\n",
       "4        Random Forest  0.862121  0.86  0.941019\n",
       "3        Decision Tree  0.856406  0.86  0.927516\n",
       "2                  KNN  0.809674  0.81  0.895471\n",
       "1                  SVM  0.739336  0.74  0.787446\n",
       "0  Logistic Regression  0.642280  0.64  0.694977\n",
       "5          Naive Bayes  0.607846  0.61  0.651006"
      ]
     },
     "execution_count": 43,
     "metadata": {},
     "output_type": "execute_result"
    }
   ],
   "source": [
    "results_df = pd.DataFrame({\"Model\": model_list,\n",
    "                          \"Accuracy\": acc_list,\n",
    "                          \"AUC\": auc_list,\"AUC_PR\": auc_rc_list})\n",
    "results_df.sort_values(\"Accuracy\", ascending=False)"
   ]
  },
  {
   "cell_type": "markdown",
   "id": "82bf5154",
   "metadata": {},
   "source": [
    "### Random Forest "
   ]
  },
  {
   "cell_type": "code",
   "execution_count": 44,
   "id": "95c67fa1",
   "metadata": {},
   "outputs": [],
   "source": [
    "model = RandomForestClassifier()\n",
    "model.fit(X_train, y_train)\n",
    "y_pred = model.predict_proba(X_test)"
   ]
  },
  {
   "cell_type": "code",
   "execution_count": 26,
   "id": "88e41daa",
   "metadata": {},
   "outputs": [],
   "source": [
    "def criar_preds(y_pred):\n",
    "    df_pred = pd.DataFrame(y_pred)\n",
    "    df_pred[\"evadido\"] = y_test.values\n",
    "    return df_pred\n",
    "\n",
    "def plotar_preds(df_pred, x=0.5):\n",
    "    plt.hist(df_pred.loc[df_pred.evadido==0][0], bins=30)\n",
    "    plt.title(\"Prob de ser 0\")\n",
    "    plt.xlabel(\"Probabilidade do modelo\")\n",
    "    plt.ylabel(\"alunos não evadidos\")\n",
    "    plt.show()\n",
    "    plt.hist(df_pred.loc[df_pred.evadido==1][1], bins=30)\n",
    "    plt.title(\"Prob de ser 1\")\n",
    "    plt.xlabel(\"Probabilidade do modelo\")\n",
    "    plt.ylabel(\"alunos evadidos\")\n",
    "    plt.vlines(x, 0, 100, 'r', '-')\n",
    "    plt.show()\n",
    "    \n",
    "def criar_cm(df_pred, limite=0.2):\n",
    "    \n",
    "    df_pred = pd.DataFrame(y_pred)\n",
    "    df_pred[\"evadido\"] = y_test.values\n",
    "    df_pred.loc[df_pred[1] > limite, \"pred\"] = 1\n",
    "    df_pred.pred.fillna(0, inplace=True)\n",
    "    df_pred.loc[(df_pred.pred==0) & (df_pred.evadido==0), \"res\"] = \"TN\"\n",
    "    df_pred.loc[(df_pred.pred==0) & (df_pred.evadido==1), \"res\"] = \"FN\"\n",
    "    df_pred.loc[(df_pred.pred==1) & (df_pred.evadido==0), \"res\"] = \"FP\"\n",
    "    df_pred.loc[(df_pred.pred==1) & (df_pred.evadido==1), \"res\"] = \"TP\"\n",
    "    cm = pd.DataFrame(df_pred.groupby(\"res\").count()[\"pred\"]).reset_index()\n",
    "    \n",
    "    return cm\n",
    "\n",
    "def calcular_metricas(cm):\n",
    "    recall = cm.loc[cm[\"res\"]==\"TP\"][\"pred\"].values / (cm.loc[cm[\"res\"]==\"TP\"][\"pred\"].values + cm.loc[cm[\"res\"]==\"FN\"][\"pred\"].values)\n",
    "    precision = cm.loc[cm[\"res\"]==\"TP\"][\"pred\"].values / (cm.loc[cm[\"res\"]==\"TP\"][\"pred\"].values + cm.loc[cm[\"res\"]==\"FP\"][\"pred\"].values)\n",
    "    f1 = (2 * precision * recall) / (precision + recall)\n",
    "    return recall, precision, f1"
   ]
  },
  {
   "cell_type": "code",
   "execution_count": 46,
   "id": "d7f39622",
   "metadata": {},
   "outputs": [
    {
     "data": {
      "image/png": "[encoded data removed]",
      "text/plain": [
       "<Figure size 432x288 with 1 Axes>"
      ]
     },
     "metadata": {
      "needs_background": "light"
     },
     "output_type": "display_data"
    },
    {
     "data": {
      "image/png": "[encoded data removed]",
      "text/plain": [
       "<Figure size 432x288 with 1 Axes>"
      ]
     },
     "metadata": {
      "needs_background": "light"
     },
     "output_type": "display_data"
    },
    {
     "name": "stdout",
     "output_type": "stream",
     "text": [
      "  res   pred\n",
      "0  FN    182\n",
      "1  FP   7403\n",
      "2  TN  13259\n",
      "3  TP  20627\n",
      "[0.99125378] [0.73589012] [0.84469379]\n"
     ]
    }
   ],
   "source": [
    "df_pred = criar_preds(y_pred)\n",
    "plotar_preds(df_pred, x=0.25)\n",
    "cm = criar_cm(df_pred, limite=0.2)\n",
    "print(cm)\n",
    "recall, precision, f1 = calcular_metricas(cm)\n",
    "print(recall, precision, f1)"
   ]
  },
  {
   "cell_type": "markdown",
   "id": "d30cff6f",
   "metadata": {},
   "source": [
    "### Logistic Regression"
   ]
  },
  {
   "cell_type": "code",
   "execution_count": 50,
   "id": "6cf444c8",
   "metadata": {},
   "outputs": [],
   "source": [
    "model = LogisticRegression(class_weight=\"balanced\", solver=\"liblinear\")\n",
    "model.fit(X_train, y_train)\n",
    "y_pred = model.predict_proba(X_test)"
   ]
  },
  {
   "cell_type": "code",
   "execution_count": 51,
   "id": "d6965f03",
   "metadata": {},
   "outputs": [
    {
     "data": {
      "image/png": "[encoded data removed]",
      "text/plain": [
       "<Figure size 432x288 with 1 Axes>"
      ]
     },
     "metadata": {
      "needs_background": "light"
     },
     "output_type": "display_data"
    },
    {
     "data": {
      "image/png": "[encoded data removed]",
      "text/plain": [
       "<Figure size 432x288 with 1 Axes>"
      ]
     },
     "metadata": {
      "needs_background": "light"
     },
     "output_type": "display_data"
    },
    {
     "name": "stdout",
     "output_type": "stream",
     "text": [
      "  res   pred\n",
      "0  FN   3270\n",
      "1  FP  12047\n",
      "2  TN   8615\n",
      "3  TP  17539\n"
     ]
    },
    {
     "data": {
      "text/plain": [
       "(array([0.84285646]), array([0.59281417]), array([0.69606112]))"
      ]
     },
     "execution_count": 51,
     "metadata": {},
     "output_type": "execute_result"
    }
   ],
   "source": [
    "model.fit(X_train, y_train)\n",
    "y_pred = model.predict_proba(X_test)\n",
    "\n",
    "df_pred = criar_preds(y_pred)\n",
    "plotar_preds(df_pred, 0.4)\n",
    "\n",
    "cm = criar_cm(df_pred, 0.4)\n",
    "print(cm)\n",
    "calcular_metricas(cm)"
   ]
  },
  {
   "cell_type": "markdown",
   "id": "d59dfaf5",
   "metadata": {},
   "source": [
    "### SMOTE"
   ]
  },
  {
   "cell_type": "code",
   "execution_count": 16,
   "id": "a1176d44",
   "metadata": {},
   "outputs": [],
   "source": [
    "from imblearn.over_sampling import SMOTE\n",
    "# Resampling the minority class. The strategy can be changed as required.\n",
    "sm = SMOTE(sampling_strategy='minority', random_state=42)\n",
    "# Fit the model to generate the data.\n",
    "oversampled_X, oversampled_Y = sm.fit_resample(_df.drop('evadido', axis=1), _df['evadido'])\n",
    "oversampled = pd.concat([pd.DataFrame(oversampled_Y), pd.DataFrame(oversampled_X)], axis=1)"
   ]
  },
  {
   "cell_type": "code",
   "execution_count": 49,
   "id": "81dbfbf7",
   "metadata": {},
   "outputs": [
    {
     "data": {
      "text/plain": [
       "1.0    62834\n",
       "0.0    62834\n",
       "Name: evadido, dtype: int64"
      ]
     },
     "execution_count": 49,
     "metadata": {},
     "output_type": "execute_result"
    }
   ],
   "source": [
    "oversampled[\"evadido\"].value_counts()"
   ]
  },
  {
   "cell_type": "code",
   "execution_count": 17,
   "id": "c9c0491d",
   "metadata": {},
   "outputs": [
    {
     "name": "stdout",
     "output_type": "stream",
     "text": [
      "% evadidos =  0.5\n"
     ]
    }
   ],
   "source": [
    "from sklearn.model_selection import train_test_split, GridSearchCV\n",
    "\n",
    "_df = oversampled.dropna()\n",
    "X = _df[[c for c in _df.columns[1:]]]\n",
    "y = _df.evadido\n",
    "print(\"% evadidos = \", (y[y==1].sum())/len(y))\n",
    "X_train, X_test, y_train, y_test = train_test_split(X, y, test_size=0.33, random_state=42)"
   ]
  },
  {
   "cell_type": "code",
   "execution_count": 22,
   "id": "1ad41629",
   "metadata": {},
   "outputs": [
    {
     "name": "stderr",
     "output_type": "stream",
     "text": [
      "C:\\Users\\paula\\Anaconda3\\envs\\evasao\\lib\\site-packages\\sklearn\\linear_model\\_logistic.py:444: ConvergenceWarning: lbfgs failed to converge (status=1):\n",
      "STOP: TOTAL NO. of ITERATIONS REACHED LIMIT.\n",
      "\n",
      "Increase the number of iterations (max_iter) or scale the data as shown in:\n",
      "    https://scikit-learn.org/stable/modules/preprocessing.html\n",
      "Please also refer to the documentation for alternative solver options:\n",
      "    https://scikit-learn.org/stable/modules/linear_model.html#logistic-regression\n",
      "  n_iter_i = _check_optimize_result(\n"
     ]
    }
   ],
   "source": [
    "\n",
    "from sklearn import metrics\n",
    "from sklearn.metrics import classification_report\n",
    "from sklearn.metrics import confusion_matrix\n",
    "model_pipeline = []\n",
    "model_pipeline.append(LogisticRegression())\n",
    "model_pipeline.append(RandomForestClassifier())\n",
    "\n",
    "model_list = [\"Logistic Regression\",  \n",
    "               \"Random Forest\"]\n",
    "acc_list = []\n",
    "auc_list = []\n",
    "cm_list =[]\n",
    "auc_rc_list= []\n",
    "\n",
    "for model in model_pipeline:\n",
    "    model.fit(X_train, y_train)\n",
    "    y_pred = model.predict(X_test)\n",
    "    y_prob = model.predict_proba(X_test)\n",
    "    acc_list.append(metrics.accuracy_score(y_test, y_pred))\n",
    "    fpr, tpr, _thresholds = metrics.roc_curve(y_test, y_pred)\n",
    "    auc_list.append(round(metrics.auc(fpr, tpr), 2))\n",
    "    cm_list.append(confusion_matrix(y_test, y_pred))\n",
    "    pr, rc, _threshold = metrics.precision_recall_curve(y_test, y_prob[:,1])\n",
    "    auc_rc_list.append(metrics.auc(rc, pr))"
   ]
  },
  {
   "cell_type": "code",
   "execution_count": 23,
   "id": "16310a2f",
   "metadata": {},
   "outputs": [
    {
     "data": {
      "image/png": "[encoded data removed]",
      "text/plain": [
       "<Figure size 1296x720 with 4 Axes>"
      ]
     },
     "metadata": {
      "needs_background": "light"
     },
     "output_type": "display_data"
    }
   ],
   "source": [
    "fig = plt.figure(figsize=(18,10))\n",
    "for i in range(len(cm_list)):\n",
    "    cm = cm_list[i]\n",
    "    model = model_list[i]\n",
    "    sub = fig.add_subplot(2,3,i+1).set_title(model)\n",
    "    cm_plot = sns.heatmap(cm, annot=True, cmap=\"Reds\", fmt=\"d\")\n",
    "    cm_plot.set_ylabel(\"Actual Value\")\n",
    "    cm_plot.set_xlabel(\"Predicted Values\")"
   ]
  },
  {
   "cell_type": "code",
   "execution_count": 24,
   "id": "3e4d4833",
   "metadata": {},
   "outputs": [],
   "source": [
    "model = RandomForestClassifier()\n",
    "model.fit(X_train, y_train)\n",
    "y_pred = model.predict_proba(X_test)"
   ]
  },
  {
   "cell_type": "code",
   "execution_count": 27,
   "id": "a0b65caf",
   "metadata": {},
   "outputs": [
    {
     "data": {
      "image/png": "[encoded data removed]",
      "text/plain": [
       "<Figure size 432x288 with 1 Axes>"
      ]
     },
     "metadata": {
      "needs_background": "light"
     },
     "output_type": "display_data"
    },
    {
     "data": {
      "image/png": "[encoded data removed]",
      "text/plain": [
       "<Figure size 432x288 with 1 Axes>"
      ]
     },
     "metadata": {
      "needs_background": "light"
     },
     "output_type": "display_data"
    },
    {
     "name": "stdout",
     "output_type": "stream",
     "text": [
      "  res    pred\n",
      "0  FN    5271\n",
      "1  FP   53993\n",
      "2  TN  108942\n",
      "3  TP  157800\n",
      "[0.96767666] [0.74506712] [0.84190533]\n"
     ]
    }
   ],
   "source": [
    "df_pred = criar_preds(y_pred)\n",
    "plotar_preds(df_pred, x=0.25)\n",
    "cm = criar_cm(df_pred, limite=0.25)\n",
    "print(cm)\n",
    "recall, precision, f1 = calcular_metricas(cm)\n",
    "print(recall, precision, f1)"
   ]
  },
  {
   "cell_type": "code",
   "execution_count": 30,
   "id": "2b262f86",
   "metadata": {},
   "outputs": [
    {
     "ename": "MemoryError",
     "evalue": "Unable to allocate 50.9 MiB for an array with shape (81, 658597) and data type uint8",
     "output_type": "error",
     "traceback": [
      "\u001b[1;31m---------------------------------------------------------------------------\u001b[0m",
      "\u001b[1;31m_RemoteTraceback\u001b[0m                          Traceback (most recent call last)",
      "\u001b[1;31m_RemoteTraceback\u001b[0m: \n\"\"\"\nTraceback (most recent call last):\n  File \"C:\\Users\\paula\\Anaconda3\\envs\\evasao\\lib\\site-packages\\joblib\\externals\\loky\\process_executor.py\", line 436, in _process_worker\n    r = call_item()\n  File \"C:\\Users\\paula\\Anaconda3\\envs\\evasao\\lib\\site-packages\\joblib\\externals\\loky\\process_executor.py\", line 288, in __call__\n    return self.fn(*self.args, **self.kwargs)\n  File \"C:\\Users\\paula\\Anaconda3\\envs\\evasao\\lib\\site-packages\\joblib\\_parallel_backends.py\", line 595, in __call__\n    return self.func(*args, **kwargs)\n  File \"C:\\Users\\paula\\Anaconda3\\envs\\evasao\\lib\\site-packages\\joblib\\parallel.py\", line 262, in __call__\n    return [func(*args, **kwargs)\n  File \"C:\\Users\\paula\\Anaconda3\\envs\\evasao\\lib\\site-packages\\joblib\\parallel.py\", line 262, in <listcomp>\n    return [func(*args, **kwargs)\n  File \"C:\\Users\\paula\\Anaconda3\\envs\\evasao\\lib\\site-packages\\sklearn\\utils\\fixes.py\", line 117, in __call__\n    return self.function(*args, **kwargs)\n  File \"C:\\Users\\paula\\Anaconda3\\envs\\evasao\\lib\\site-packages\\sklearn\\model_selection\\_validation.py\", line 678, in _fit_and_score\n    X_train, y_train = _safe_split(estimator, X, y, train)\n  File \"C:\\Users\\paula\\Anaconda3\\envs\\evasao\\lib\\site-packages\\sklearn\\utils\\metaestimators.py\", line 308, in _safe_split\n    X_subset = _safe_indexing(X, indices)\n  File \"C:\\Users\\paula\\Anaconda3\\envs\\evasao\\lib\\site-packages\\sklearn\\utils\\__init__.py\", line 359, in _safe_indexing\n    return _pandas_indexing(X, indices, indices_dtype, axis=axis)\n  File \"C:\\Users\\paula\\Anaconda3\\envs\\evasao\\lib\\site-packages\\sklearn\\utils\\__init__.py\", line 201, in _pandas_indexing\n    return X.take(key, axis=axis)\n  File \"C:\\Users\\paula\\Anaconda3\\envs\\evasao\\lib\\site-packages\\pandas\\core\\generic.py\", line 3703, in take\n    new_data = self._mgr.take(\n  File \"C:\\Users\\paula\\Anaconda3\\envs\\evasao\\lib\\site-packages\\pandas\\core\\internals\\managers.py\", line 900, in take\n    return self.reindex_indexer(\n  File \"C:\\Users\\paula\\Anaconda3\\envs\\evasao\\lib\\site-packages\\pandas\\core\\internals\\managers.py\", line 692, in reindex_indexer\n    new_blocks = [\n  File \"C:\\Users\\paula\\Anaconda3\\envs\\evasao\\lib\\site-packages\\pandas\\core\\internals\\managers.py\", line 693, in <listcomp>\n    blk.take_nd(\n  File \"C:\\Users\\paula\\Anaconda3\\envs\\evasao\\lib\\site-packages\\pandas\\core\\internals\\blocks.py\", line 1137, in take_nd\n    new_values = algos.take_nd(\n  File \"C:\\Users\\paula\\Anaconda3\\envs\\evasao\\lib\\site-packages\\pandas\\core\\array_algos\\take.py\", line 117, in take_nd\n    return _take_nd_ndarray(arr, indexer, axis, fill_value, allow_fill)\n  File \"C:\\Users\\paula\\Anaconda3\\envs\\evasao\\lib\\site-packages\\pandas\\core\\array_algos\\take.py\", line 158, in _take_nd_ndarray\n    out = np.empty(out_shape, dtype=dtype)\nnumpy.core._exceptions._ArrayMemoryError: Unable to allocate 50.9 MiB for an array with shape (81, 658597) and data type uint8\n\"\"\"",
      "\nThe above exception was the direct cause of the following exception:\n",
      "\u001b[1;31mMemoryError\u001b[0m                               Traceback (most recent call last)",
      "Input \u001b[1;32mIn [30]\u001b[0m, in \u001b[0;36m<cell line: 15>\u001b[1;34m()\u001b[0m\n\u001b[0;32m     13\u001b[0m cv \u001b[38;5;241m=\u001b[39m RepeatedStratifiedKFold(n_splits\u001b[38;5;241m=\u001b[39m\u001b[38;5;241m3\u001b[39m, n_repeats\u001b[38;5;241m=\u001b[39m\u001b[38;5;241m1\u001b[39m, random_state\u001b[38;5;241m=\u001b[39m\u001b[38;5;241m1\u001b[39m)\n\u001b[0;32m     14\u001b[0m \u001b[38;5;66;03m# evaluate model\u001b[39;00m\n\u001b[1;32m---> 15\u001b[0m scores \u001b[38;5;241m=\u001b[39m \u001b[43mcross_val_score\u001b[49m\u001b[43m(\u001b[49m\u001b[43mmodel\u001b[49m\u001b[43m,\u001b[49m\u001b[43m \u001b[49m\u001b[43mX\u001b[49m\u001b[43m,\u001b[49m\u001b[43m \u001b[49m\u001b[43my\u001b[49m\u001b[43m,\u001b[49m\u001b[43m \u001b[49m\u001b[43mscoring\u001b[49m\u001b[38;5;241;43m=\u001b[39;49m\u001b[38;5;124;43m'\u001b[39;49m\u001b[38;5;124;43mroc_auc\u001b[39;49m\u001b[38;5;124;43m'\u001b[39;49m\u001b[43m,\u001b[49m\u001b[43m \u001b[49m\u001b[43mcv\u001b[49m\u001b[38;5;241;43m=\u001b[39;49m\u001b[43mcv\u001b[49m\u001b[43m,\u001b[49m\u001b[43m \u001b[49m\u001b[43mn_jobs\u001b[49m\u001b[38;5;241;43m=\u001b[39;49m\u001b[38;5;241;43m-\u001b[39;49m\u001b[38;5;241;43m1\u001b[39;49m\u001b[43m)\u001b[49m\n\u001b[0;32m     16\u001b[0m \u001b[38;5;66;03m#\u001b[39;00m\n\u001b[0;32m     17\u001b[0m output \u001b[38;5;241m=\u001b[39m cross_validate(model, X, y, cv\u001b[38;5;241m=\u001b[39mcv, scoring \u001b[38;5;241m=\u001b[39m \u001b[38;5;124m'\u001b[39m\u001b[38;5;124mroc_auc\u001b[39m\u001b[38;5;124m'\u001b[39m, return_estimator \u001b[38;5;241m=\u001b[39m\u001b[38;5;28;01mTrue\u001b[39;00m)\n",
      "File \u001b[1;32m~\\Anaconda3\\envs\\evasao\\lib\\site-packages\\sklearn\\model_selection\\_validation.py:515\u001b[0m, in \u001b[0;36mcross_val_score\u001b[1;34m(estimator, X, y, groups, scoring, cv, n_jobs, verbose, fit_params, pre_dispatch, error_score)\u001b[0m\n\u001b[0;32m    512\u001b[0m \u001b[38;5;66;03m# To ensure multimetric format is not supported\u001b[39;00m\n\u001b[0;32m    513\u001b[0m scorer \u001b[38;5;241m=\u001b[39m check_scoring(estimator, scoring\u001b[38;5;241m=\u001b[39mscoring)\n\u001b[1;32m--> 515\u001b[0m cv_results \u001b[38;5;241m=\u001b[39m \u001b[43mcross_validate\u001b[49m\u001b[43m(\u001b[49m\n\u001b[0;32m    516\u001b[0m \u001b[43m    \u001b[49m\u001b[43mestimator\u001b[49m\u001b[38;5;241;43m=\u001b[39;49m\u001b[43mestimator\u001b[49m\u001b[43m,\u001b[49m\n\u001b[0;32m    517\u001b[0m \u001b[43m    \u001b[49m\u001b[43mX\u001b[49m\u001b[38;5;241;43m=\u001b[39;49m\u001b[43mX\u001b[49m\u001b[43m,\u001b[49m\n\u001b[0;32m    518\u001b[0m \u001b[43m    \u001b[49m\u001b[43my\u001b[49m\u001b[38;5;241;43m=\u001b[39;49m\u001b[43my\u001b[49m\u001b[43m,\u001b[49m\n\u001b[0;32m    519\u001b[0m \u001b[43m    \u001b[49m\u001b[43mgroups\u001b[49m\u001b[38;5;241;43m=\u001b[39;49m\u001b[43mgroups\u001b[49m\u001b[43m,\u001b[49m\n\u001b[0;32m    520\u001b[0m \u001b[43m    \u001b[49m\u001b[43mscoring\u001b[49m\u001b[38;5;241;43m=\u001b[39;49m\u001b[43m{\u001b[49m\u001b[38;5;124;43m\"\u001b[39;49m\u001b[38;5;124;43mscore\u001b[39;49m\u001b[38;5;124;43m\"\u001b[39;49m\u001b[43m:\u001b[49m\u001b[43m \u001b[49m\u001b[43mscorer\u001b[49m\u001b[43m}\u001b[49m\u001b[43m,\u001b[49m\n\u001b[0;32m    521\u001b[0m \u001b[43m    \u001b[49m\u001b[43mcv\u001b[49m\u001b[38;5;241;43m=\u001b[39;49m\u001b[43mcv\u001b[49m\u001b[43m,\u001b[49m\n\u001b[0;32m    522\u001b[0m \u001b[43m    \u001b[49m\u001b[43mn_jobs\u001b[49m\u001b[38;5;241;43m=\u001b[39;49m\u001b[43mn_jobs\u001b[49m\u001b[43m,\u001b[49m\n\u001b[0;32m    523\u001b[0m \u001b[43m    \u001b[49m\u001b[43mverbose\u001b[49m\u001b[38;5;241;43m=\u001b[39;49m\u001b[43mverbose\u001b[49m\u001b[43m,\u001b[49m\n\u001b[0;32m    524\u001b[0m \u001b[43m    \u001b[49m\u001b[43mfit_params\u001b[49m\u001b[38;5;241;43m=\u001b[39;49m\u001b[43mfit_params\u001b[49m\u001b[43m,\u001b[49m\n\u001b[0;32m    525\u001b[0m \u001b[43m    \u001b[49m\u001b[43mpre_dispatch\u001b[49m\u001b[38;5;241;43m=\u001b[39;49m\u001b[43mpre_dispatch\u001b[49m\u001b[43m,\u001b[49m\n\u001b[0;32m    526\u001b[0m \u001b[43m    \u001b[49m\u001b[43merror_score\u001b[49m\u001b[38;5;241;43m=\u001b[39;49m\u001b[43merror_score\u001b[49m\u001b[43m,\u001b[49m\n\u001b[0;32m    527\u001b[0m \u001b[43m\u001b[49m\u001b[43m)\u001b[49m\n\u001b[0;32m    528\u001b[0m \u001b[38;5;28;01mreturn\u001b[39;00m cv_results[\u001b[38;5;124m\"\u001b[39m\u001b[38;5;124mtest_score\u001b[39m\u001b[38;5;124m\"\u001b[39m]\n",
      "File \u001b[1;32m~\\Anaconda3\\envs\\evasao\\lib\\site-packages\\sklearn\\model_selection\\_validation.py:266\u001b[0m, in \u001b[0;36mcross_validate\u001b[1;34m(estimator, X, y, groups, scoring, cv, n_jobs, verbose, fit_params, pre_dispatch, return_train_score, return_estimator, error_score)\u001b[0m\n\u001b[0;32m    263\u001b[0m \u001b[38;5;66;03m# We clone the estimator to make sure that all the folds are\u001b[39;00m\n\u001b[0;32m    264\u001b[0m \u001b[38;5;66;03m# independent, and that it is pickle-able.\u001b[39;00m\n\u001b[0;32m    265\u001b[0m parallel \u001b[38;5;241m=\u001b[39m Parallel(n_jobs\u001b[38;5;241m=\u001b[39mn_jobs, verbose\u001b[38;5;241m=\u001b[39mverbose, pre_dispatch\u001b[38;5;241m=\u001b[39mpre_dispatch)\n\u001b[1;32m--> 266\u001b[0m results \u001b[38;5;241m=\u001b[39m \u001b[43mparallel\u001b[49m\u001b[43m(\u001b[49m\n\u001b[0;32m    267\u001b[0m \u001b[43m    \u001b[49m\u001b[43mdelayed\u001b[49m\u001b[43m(\u001b[49m\u001b[43m_fit_and_score\u001b[49m\u001b[43m)\u001b[49m\u001b[43m(\u001b[49m\n\u001b[0;32m    268\u001b[0m \u001b[43m        \u001b[49m\u001b[43mclone\u001b[49m\u001b[43m(\u001b[49m\u001b[43mestimator\u001b[49m\u001b[43m)\u001b[49m\u001b[43m,\u001b[49m\n\u001b[0;32m    269\u001b[0m \u001b[43m        \u001b[49m\u001b[43mX\u001b[49m\u001b[43m,\u001b[49m\n\u001b[0;32m    270\u001b[0m \u001b[43m        \u001b[49m\u001b[43my\u001b[49m\u001b[43m,\u001b[49m\n\u001b[0;32m    271\u001b[0m \u001b[43m        \u001b[49m\u001b[43mscorers\u001b[49m\u001b[43m,\u001b[49m\n\u001b[0;32m    272\u001b[0m \u001b[43m        \u001b[49m\u001b[43mtrain\u001b[49m\u001b[43m,\u001b[49m\n\u001b[0;32m    273\u001b[0m \u001b[43m        \u001b[49m\u001b[43mtest\u001b[49m\u001b[43m,\u001b[49m\n\u001b[0;32m    274\u001b[0m \u001b[43m        \u001b[49m\u001b[43mverbose\u001b[49m\u001b[43m,\u001b[49m\n\u001b[0;32m    275\u001b[0m \u001b[43m        \u001b[49m\u001b[38;5;28;43;01mNone\u001b[39;49;00m\u001b[43m,\u001b[49m\n\u001b[0;32m    276\u001b[0m \u001b[43m        \u001b[49m\u001b[43mfit_params\u001b[49m\u001b[43m,\u001b[49m\n\u001b[0;32m    277\u001b[0m \u001b[43m        \u001b[49m\u001b[43mreturn_train_score\u001b[49m\u001b[38;5;241;43m=\u001b[39;49m\u001b[43mreturn_train_score\u001b[49m\u001b[43m,\u001b[49m\n\u001b[0;32m    278\u001b[0m \u001b[43m        \u001b[49m\u001b[43mreturn_times\u001b[49m\u001b[38;5;241;43m=\u001b[39;49m\u001b[38;5;28;43;01mTrue\u001b[39;49;00m\u001b[43m,\u001b[49m\n\u001b[0;32m    279\u001b[0m \u001b[43m        \u001b[49m\u001b[43mreturn_estimator\u001b[49m\u001b[38;5;241;43m=\u001b[39;49m\u001b[43mreturn_estimator\u001b[49m\u001b[43m,\u001b[49m\n\u001b[0;32m    280\u001b[0m \u001b[43m        \u001b[49m\u001b[43merror_score\u001b[49m\u001b[38;5;241;43m=\u001b[39;49m\u001b[43merror_score\u001b[49m\u001b[43m,\u001b[49m\n\u001b[0;32m    281\u001b[0m \u001b[43m    \u001b[49m\u001b[43m)\u001b[49m\n\u001b[0;32m    282\u001b[0m \u001b[43m    \u001b[49m\u001b[38;5;28;43;01mfor\u001b[39;49;00m\u001b[43m \u001b[49m\u001b[43mtrain\u001b[49m\u001b[43m,\u001b[49m\u001b[43m \u001b[49m\u001b[43mtest\u001b[49m\u001b[43m \u001b[49m\u001b[38;5;129;43;01min\u001b[39;49;00m\u001b[43m \u001b[49m\u001b[43mcv\u001b[49m\u001b[38;5;241;43m.\u001b[39;49m\u001b[43msplit\u001b[49m\u001b[43m(\u001b[49m\u001b[43mX\u001b[49m\u001b[43m,\u001b[49m\u001b[43m \u001b[49m\u001b[43my\u001b[49m\u001b[43m,\u001b[49m\u001b[43m \u001b[49m\u001b[43mgroups\u001b[49m\u001b[43m)\u001b[49m\n\u001b[0;32m    283\u001b[0m \u001b[43m\u001b[49m\u001b[43m)\u001b[49m\n\u001b[0;32m    285\u001b[0m _warn_or_raise_about_fit_failures(results, error_score)\n\u001b[0;32m    287\u001b[0m \u001b[38;5;66;03m# For callabe scoring, the return type is only know after calling. If the\u001b[39;00m\n\u001b[0;32m    288\u001b[0m \u001b[38;5;66;03m# return type is a dictionary, the error scores can now be inserted with\u001b[39;00m\n\u001b[0;32m    289\u001b[0m \u001b[38;5;66;03m# the correct key.\u001b[39;00m\n",
      "File \u001b[1;32m~\\Anaconda3\\envs\\evasao\\lib\\site-packages\\joblib\\parallel.py:1056\u001b[0m, in \u001b[0;36mParallel.__call__\u001b[1;34m(self, iterable)\u001b[0m\n\u001b[0;32m   1053\u001b[0m     \u001b[38;5;28mself\u001b[39m\u001b[38;5;241m.\u001b[39m_iterating \u001b[38;5;241m=\u001b[39m \u001b[38;5;28;01mFalse\u001b[39;00m\n\u001b[0;32m   1055\u001b[0m \u001b[38;5;28;01mwith\u001b[39;00m \u001b[38;5;28mself\u001b[39m\u001b[38;5;241m.\u001b[39m_backend\u001b[38;5;241m.\u001b[39mretrieval_context():\n\u001b[1;32m-> 1056\u001b[0m     \u001b[38;5;28;43mself\u001b[39;49m\u001b[38;5;241;43m.\u001b[39;49m\u001b[43mretrieve\u001b[49m\u001b[43m(\u001b[49m\u001b[43m)\u001b[49m\n\u001b[0;32m   1057\u001b[0m \u001b[38;5;66;03m# Make sure that we get a last message telling us we are done\u001b[39;00m\n\u001b[0;32m   1058\u001b[0m elapsed_time \u001b[38;5;241m=\u001b[39m time\u001b[38;5;241m.\u001b[39mtime() \u001b[38;5;241m-\u001b[39m \u001b[38;5;28mself\u001b[39m\u001b[38;5;241m.\u001b[39m_start_time\n",
      "File \u001b[1;32m~\\Anaconda3\\envs\\evasao\\lib\\site-packages\\joblib\\parallel.py:935\u001b[0m, in \u001b[0;36mParallel.retrieve\u001b[1;34m(self)\u001b[0m\n\u001b[0;32m    933\u001b[0m \u001b[38;5;28;01mtry\u001b[39;00m:\n\u001b[0;32m    934\u001b[0m     \u001b[38;5;28;01mif\u001b[39;00m \u001b[38;5;28mgetattr\u001b[39m(\u001b[38;5;28mself\u001b[39m\u001b[38;5;241m.\u001b[39m_backend, \u001b[38;5;124m'\u001b[39m\u001b[38;5;124msupports_timeout\u001b[39m\u001b[38;5;124m'\u001b[39m, \u001b[38;5;28;01mFalse\u001b[39;00m):\n\u001b[1;32m--> 935\u001b[0m         \u001b[38;5;28mself\u001b[39m\u001b[38;5;241m.\u001b[39m_output\u001b[38;5;241m.\u001b[39mextend(\u001b[43mjob\u001b[49m\u001b[38;5;241;43m.\u001b[39;49m\u001b[43mget\u001b[49m\u001b[43m(\u001b[49m\u001b[43mtimeout\u001b[49m\u001b[38;5;241;43m=\u001b[39;49m\u001b[38;5;28;43mself\u001b[39;49m\u001b[38;5;241;43m.\u001b[39;49m\u001b[43mtimeout\u001b[49m\u001b[43m)\u001b[49m)\n\u001b[0;32m    936\u001b[0m     \u001b[38;5;28;01melse\u001b[39;00m:\n\u001b[0;32m    937\u001b[0m         \u001b[38;5;28mself\u001b[39m\u001b[38;5;241m.\u001b[39m_output\u001b[38;5;241m.\u001b[39mextend(job\u001b[38;5;241m.\u001b[39mget())\n",
      "File \u001b[1;32m~\\Anaconda3\\envs\\evasao\\lib\\site-packages\\joblib\\_parallel_backends.py:542\u001b[0m, in \u001b[0;36mLokyBackend.wrap_future_result\u001b[1;34m(future, timeout)\u001b[0m\n\u001b[0;32m    539\u001b[0m \u001b[38;5;124;03m\"\"\"Wrapper for Future.result to implement the same behaviour as\u001b[39;00m\n\u001b[0;32m    540\u001b[0m \u001b[38;5;124;03mAsyncResults.get from multiprocessing.\"\"\"\u001b[39;00m\n\u001b[0;32m    541\u001b[0m \u001b[38;5;28;01mtry\u001b[39;00m:\n\u001b[1;32m--> 542\u001b[0m     \u001b[38;5;28;01mreturn\u001b[39;00m \u001b[43mfuture\u001b[49m\u001b[38;5;241;43m.\u001b[39;49m\u001b[43mresult\u001b[49m\u001b[43m(\u001b[49m\u001b[43mtimeout\u001b[49m\u001b[38;5;241;43m=\u001b[39;49m\u001b[43mtimeout\u001b[49m\u001b[43m)\u001b[49m\n\u001b[0;32m    543\u001b[0m \u001b[38;5;28;01mexcept\u001b[39;00m CfTimeoutError \u001b[38;5;28;01mas\u001b[39;00m e:\n\u001b[0;32m    544\u001b[0m     \u001b[38;5;28;01mraise\u001b[39;00m \u001b[38;5;167;01mTimeoutError\u001b[39;00m \u001b[38;5;28;01mfrom\u001b[39;00m \u001b[38;5;21;01me\u001b[39;00m\n",
      "File \u001b[1;32m~\\Anaconda3\\envs\\evasao\\lib\\concurrent\\futures\\_base.py:446\u001b[0m, in \u001b[0;36mFuture.result\u001b[1;34m(self, timeout)\u001b[0m\n\u001b[0;32m    444\u001b[0m     \u001b[38;5;28;01mraise\u001b[39;00m CancelledError()\n\u001b[0;32m    445\u001b[0m \u001b[38;5;28;01melif\u001b[39;00m \u001b[38;5;28mself\u001b[39m\u001b[38;5;241m.\u001b[39m_state \u001b[38;5;241m==\u001b[39m FINISHED:\n\u001b[1;32m--> 446\u001b[0m     \u001b[38;5;28;01mreturn\u001b[39;00m \u001b[38;5;28;43mself\u001b[39;49m\u001b[38;5;241;43m.\u001b[39;49m\u001b[43m__get_result\u001b[49m\u001b[43m(\u001b[49m\u001b[43m)\u001b[49m\n\u001b[0;32m    447\u001b[0m \u001b[38;5;28;01melse\u001b[39;00m:\n\u001b[0;32m    448\u001b[0m     \u001b[38;5;28;01mraise\u001b[39;00m \u001b[38;5;167;01mTimeoutError\u001b[39;00m()\n",
      "File \u001b[1;32m~\\Anaconda3\\envs\\evasao\\lib\\concurrent\\futures\\_base.py:391\u001b[0m, in \u001b[0;36mFuture.__get_result\u001b[1;34m(self)\u001b[0m\n\u001b[0;32m    389\u001b[0m \u001b[38;5;28;01mif\u001b[39;00m \u001b[38;5;28mself\u001b[39m\u001b[38;5;241m.\u001b[39m_exception:\n\u001b[0;32m    390\u001b[0m     \u001b[38;5;28;01mtry\u001b[39;00m:\n\u001b[1;32m--> 391\u001b[0m         \u001b[38;5;28;01mraise\u001b[39;00m \u001b[38;5;28mself\u001b[39m\u001b[38;5;241m.\u001b[39m_exception\n\u001b[0;32m    392\u001b[0m     \u001b[38;5;28;01mfinally\u001b[39;00m:\n\u001b[0;32m    393\u001b[0m         \u001b[38;5;66;03m# Break a reference cycle with the exception in self._exception\u001b[39;00m\n\u001b[0;32m    394\u001b[0m         \u001b[38;5;28mself\u001b[39m \u001b[38;5;241m=\u001b[39m \u001b[38;5;28;01mNone\u001b[39;00m\n",
      "\u001b[1;31mMemoryError\u001b[0m: Unable to allocate 50.9 MiB for an array with shape (81, 658597) and data type uint8"
     ]
    }
   ],
   "source": [
    "# random forest for imbalanced classification\n",
    "from numpy import mean\n",
    "from sklearn.datasets import make_classification\n",
    "from sklearn.model_selection import cross_val_score, cross_validate\n",
    "from sklearn.model_selection import RepeatedStratifiedKFold\n",
    "from sklearn.ensemble import RandomForestClassifier\n",
    "from imblearn.ensemble import BalancedRandomForestClassifier\n",
    "\n",
    "# define model\n",
    "#model = RandomForestClassifier(n_estimators=v10, class_weight='balanced_subsample')\n",
    "model = BalancedRandomForestClassifier(n_estimators=50)\n",
    "# define evaluation procedure\n",
    "cv = RepeatedStratifiedKFold(n_splits=3, n_repeats=1, random_state=1)\n",
    "# evaluate model\n",
    "scores = cross_val_score(model, X, y, scoring='roc_auc', cv=cv, n_jobs=-1)\n",
    "#\n",
    "output = cross_validate(model, X, y, cv=cv, scoring = 'roc_auc', return_estimator =True)\n",
    "# summarize performance\n",
    "print('Mean ROC AUC: %.3f' % mean(scores))"
   ]
  },
  {
   "cell_type": "code",
   "execution_count": null,
   "id": "7f597e03",
   "metadata": {},
   "outputs": [],
   "source": []
  }
 ],
 "metadata": {
  "kernelspec": {
   "display_name": "Python 3 (ipykernel)",
   "language": "python",
   "name": "python3"
  },
  "language_info": {
   "codemirror_mode": {
    "name": "ipython",
    "version": 3
   },
   "file_extension": ".py",
   "mimetype": "text/x-python",
   "name": "python",
   "nbconvert_exporter": "python",
   "pygments_lexer": "ipython3",
   "version": "3.10.4"
  }
 },
 "nbformat": 4,
 "nbformat_minor": 5
}
